{
  "nbformat": 4,
  "nbformat_minor": 0,
  "metadata": {
    "colab": {
      "provenance": [],
      "authorship_tag": "ABX9TyNAV/G3xRTEbOINn7tKF9qq",
      "include_colab_link": true
    },
    "kernelspec": {
      "name": "python3",
      "display_name": "Python 3"
    },
    "language_info": {
      "name": "python"
    }
  },
  "cells": [
    {
      "cell_type": "markdown",
      "metadata": {
        "id": "view-in-github",
        "colab_type": "text"
      },
      "source": [
        "<a href=\"https://colab.research.google.com/github/thejsw/Quant/blob/portfolio/PythonPortfolio.ipynb\" target=\"_parent\"><img src=\"https://colab.research.google.com/assets/colab-badge.svg\" alt=\"Open In Colab\"/></a>"
      ]
    },
    {
      "cell_type": "code",
      "source": [
        "!pip install numpy-financial"
      ],
      "metadata": {
        "colab": {
          "base_uri": "https://localhost:8080/"
        },
        "id": "aKDd1r5UzSfg",
        "outputId": "585ebe32-9344-4ba1-eaab-24e915e0fe22"
      },
      "execution_count": 9,
      "outputs": [
        {
          "output_type": "stream",
          "name": "stdout",
          "text": [
            "Collecting numpy-financial\n",
            "  Downloading numpy_financial-1.0.0-py3-none-any.whl.metadata (2.2 kB)\n",
            "Requirement already satisfied: numpy>=1.15 in /usr/local/lib/python3.11/dist-packages (from numpy-financial) (2.0.2)\n",
            "Downloading numpy_financial-1.0.0-py3-none-any.whl (14 kB)\n",
            "Installing collected packages: numpy-financial\n",
            "Successfully installed numpy-financial-1.0.0\n"
          ]
        }
      ]
    },
    {
      "cell_type": "code",
      "source": [
        "import numpy_financial as npf\n",
        "import numpy as np\n",
        "import math"
      ],
      "metadata": {
        "id": "K6unYjMvSHzY"
      },
      "execution_count": 10,
      "outputs": []
    },
    {
      "cell_type": "markdown",
      "source": [
        "# 1. 파이썬과 재무 기초 지식"
      ],
      "metadata": {
        "id": "vyHYFe41Jm8N"
      }
    },
    {
      "cell_type": "markdown",
      "source": [
        "## 1.2 현금흐름, 이자율과 시간 가치"
      ],
      "metadata": {
        "id": "pbrotqG7Jtod"
      }
    },
    {
      "cell_type": "markdown",
      "source": [
        "이자율은 화폐를 보유하는 경우에 생기는 기회비용  \n",
        "단리: 원금 x (1 + 이율 x 기간)  \n",
        "복리: 원금 x (1 + 이율) ** 기간"
      ],
      "metadata": {
        "id": "pE3EinBmJzuN"
      }
    },
    {
      "cell_type": "code",
      "source": [
        "a = 1\n",
        "r = 1.0\n",
        "\n",
        "n = 4\n",
        "c_compound = a * (1+r / n) ** n\n",
        "\n",
        "c_compound"
      ],
      "metadata": {
        "colab": {
          "base_uri": "https://localhost:8080/"
        },
        "id": "qyI8yuQFI8ix",
        "outputId": "33c3576a-b80e-4f5a-b88f-092de6b48cd5"
      },
      "execution_count": 11,
      "outputs": [
        {
          "output_type": "execute_result",
          "data": {
            "text/plain": [
              "2.44140625"
            ]
          },
          "metadata": {},
          "execution_count": 11
        }
      ]
    },
    {
      "cell_type": "markdown",
      "source": [
        "## 1.3 NPV와 IRR"
      ],
      "metadata": {
        "id": "axhwS8eXK_C3"
      }
    },
    {
      "cell_type": "markdown",
      "source": [
        "**NPV(순현재가치)**: 투자로부터 예상되는 미래 현금 흐름을 현재 가치로 환산한 후, 초기 투자 비용을 차감한 값  \n",
        "-> NPV가 0보다 크면 투자할 가치가 있다고 판단함"
      ],
      "metadata": {
        "id": "bXNvH365LByJ"
      }
    },
    {
      "cell_type": "code",
      "source": [
        "# 현금흐름을 cashflows에 저장, i는 횟수, r은 이자율\n",
        "cashflows = [12000, 15000, 18000, 21000, 26000]\n",
        "i = 0\n",
        "r = 0.015\n",
        "\n",
        "# 최초 투자금액, 현금 유출이므로 (-)\n",
        "npv = -70000\n",
        "\n",
        "# cashflows 리스트를 반복해 미래가치를 현재가치로 계산해서 npv 변수에 누적\n",
        "for c in cashflows:\n",
        "  i = i+1\n",
        "  npv = npv + c/(1+r) ** i\n",
        "\n",
        "npv\n"
      ],
      "metadata": {
        "colab": {
          "base_uri": "https://localhost:8080/"
        },
        "id": "N7PMrkOtLBQ3",
        "outputId": "d579d931-2b5a-4ca0-dde6-2128b5b047a1"
      },
      "execution_count": 12,
      "outputs": [
        {
          "output_type": "execute_result",
          "data": {
            "text/plain": [
              "17516.929512135568"
            ]
          },
          "metadata": {},
          "execution_count": 12
        }
      ]
    },
    {
      "cell_type": "code",
      "source": [
        "# numpy_financial 라이브러리 사용\n",
        "cashflows = [-70000, 12000, 15000, 18000, 21000, 26000]\n",
        "r = 0.015\n",
        "\n",
        "npv = npf.npv(r, cashflows)\n",
        "npv"
      ],
      "metadata": {
        "colab": {
          "base_uri": "https://localhost:8080/"
        },
        "id": "Rm2CBmqFMKRs",
        "outputId": "c723c2a7-416c-4305-fd33-98d5495c0cfa"
      },
      "execution_count": 13,
      "outputs": [
        {
          "output_type": "execute_result",
          "data": {
            "text/plain": [
              "np.float64(17516.929512135568)"
            ]
          },
          "metadata": {},
          "execution_count": 13
        }
      ]
    },
    {
      "cell_type": "markdown",
      "source": [
        "**IRR(내부수익률)**: 투자로부터 예상되는 현금 흐름의 현재 가치와 투자 비용이 같아지도록 만드는 할인율  \n",
        "-> 투자를 통해 얻을 수 있는 수익률  \n",
        "-> NPV를 0으로 만듦  \n",
        "-> 예를 들어, IRR은 약 15.24%일 경우, 투자자가 요구하는 최소 수익률이 10%라면, 이 프로젝트는 투자할 가치가 있다고 판단"
      ],
      "metadata": {
        "id": "aGEuVIp_UVvU"
      }
    },
    {
      "cell_type": "code",
      "source": [
        "cashflows = [-70000, 12000, 15000, 18000, 21000, 26000]\n",
        "\n",
        "irr = npf.irr(cashflows)\n",
        "npv = npf.npv(irr, cashflows)\n",
        "\n",
        "print('IRR {0:.1%} makes NPV {1:.0f}'.format(irr, npv))"
      ],
      "metadata": {
        "id": "MEE1inAJQXVF",
        "colab": {
          "base_uri": "https://localhost:8080/"
        },
        "outputId": "cb25905f-3067-419f-edb1-279805207aa3"
      },
      "execution_count": 14,
      "outputs": [
        {
          "output_type": "stream",
          "name": "stdout",
          "text": [
            "IRR 8.7% makes NPV 0\n"
          ]
        }
      ]
    },
    {
      "cell_type": "markdown",
      "source": [
        "## 1.4 수익률 대 수익률"
      ],
      "metadata": {
        "id": "u7uNzcYpX-fm"
      }
    },
    {
      "cell_type": "markdown",
      "source": [
        "**산술평균 (Arithmetic Mean)**  \n",
        "일반적으로 \"평균\"이라고 부르는 값으로, 모든 값을 더한 후 값의 개수로 나눈 값  \n",
        "  \n",
        "-> 계산이 간단하고 직관적이나,   \n",
        "복리 효과를 고려하지 않기 때문에 장기 투자 성과를 정확하게 반영X  \n",
        "특히 수익률 변동성이 큰 경우, 실제 투자 수익률과 차이가 클 수 있음"
      ],
      "metadata": {
        "id": "_QoZDRTseNhY"
      }
    },
    {
      "cell_type": "markdown",
      "source": [
        "**기하평균 (Geometric Mean)**  \n",
        "값들을 모두 곱한 후 값의 개수에 해당하는 제곱근을 취한 값  \n",
        "-> 투자 성과를 정확하게 측정하고, 여러 투자 안의 성과를 비교하는 데 유용"
      ],
      "metadata": {
        "id": "ffBBwc2beryH"
      }
    },
    {
      "cell_type": "markdown",
      "source": [
        "**지배원리 (dominance principle)**  \n",
        "포트폴리오에서 얻는 기대수익률은 클수록 좋고, 표준편차와 분산으로 표현하는 위험은 작을수록 좋음"
      ],
      "metadata": {
        "id": "3kqIYG3ve4LX"
      }
    },
    {
      "cell_type": "markdown",
      "source": [
        "## 1.5 자주 사용하는 통계량"
      ],
      "metadata": {
        "id": "v01dkSx1fnBE"
      }
    },
    {
      "cell_type": "markdown",
      "source": [
        "**이동평균**  \n",
        "계산에 들어가는 값 중 가장 오래된 값을 버리고, 새로운 값을 추가하여 구한 평균"
      ],
      "metadata": {
        "id": "DW4p_Ak4fxDG"
      }
    },
    {
      "cell_type": "code",
      "source": [
        "prices = [44800, 44850, 44600, 43750, 44000, 43900, 44350, 45350, 45500, 45700]\n",
        "\n",
        "# 5일 이동평균\n",
        "n = 5\n",
        "\n",
        "for p in prices[n: ]:\n",
        "  end_index = prices.index(p)\n",
        "  begin_index = end_index - n\n",
        "  print(sum(prices[begin_index:end_index])/n)"
      ],
      "metadata": {
        "colab": {
          "base_uri": "https://localhost:8080/"
        },
        "id": "EsjQ7Huhd31g",
        "outputId": "ce52def2-b6f0-4f00-9b1c-d5d855e9fb4b"
      },
      "execution_count": 15,
      "outputs": [
        {
          "output_type": "stream",
          "name": "stdout",
          "text": [
            "44400.0\n",
            "44220.0\n",
            "44120.0\n",
            "44270.0\n",
            "44620.0\n"
          ]
        }
      ]
    },
    {
      "cell_type": "markdown",
      "source": [
        "**가중평균**  \n",
        "자료에 가중치를 고려해 구한 평균  \n",
        "-> 예를 들어, A종목 100주를 주당 5,000원에 매입하고, 다시 50주를 7,500원에 추가 매수했다면,  \n",
        "5,000원 매입단가의 비중과 7,500원 매입단가의 비중을 반영해 가중평균으로 계산"
      ],
      "metadata": {
        "id": "baJNb7xKhYNU"
      }
    },
    {
      "cell_type": "code",
      "source": [
        "# sizes는 매입수량, prices는 매입단가\n",
        "sizes = [100, 50, 80]\n",
        "prices = [5,000, 7,500, 6,000]\n",
        "\n",
        "# wgt_avg는 합계를 저장할 변수\n",
        "wgt_avg = 0.0\n",
        "\n",
        "# sizes와 prices를 zip함수로 묶어 for 루프로 반복함\n",
        "for s, p in zip(sizes, prices):\n",
        "  wgt_avg += s*p\n",
        "\n",
        "print(wgt_avg)"
      ],
      "metadata": {
        "colab": {
          "base_uri": "https://localhost:8080/"
        },
        "id": "9Ve2ZNf-ge3H",
        "outputId": "c9d40749-c022-4d91-b7f3-98c6e3de3bc7"
      },
      "execution_count": 16,
      "outputs": [
        {
          "output_type": "stream",
          "name": "stdout",
          "text": [
            "1060.0\n"
          ]
        }
      ]
    },
    {
      "cell_type": "markdown",
      "source": [
        "**공분산**   \n",
        "두 변수 간의 선형적인 관계  \n",
        "Cov(X, Y) = Σ [(Xi - X̄) * (Yi - Ȳ)] / (n - 1)  \n",
        "\n",
        "**상관관계**  \n",
        "공분산의 한계를 극복하기 위해 상관관계라는 개념을 사용  \n",
        "공분산을 각 변수의 표준편차로 나누어 -1과 1 사이의 값으로 정규화"
      ],
      "metadata": {
        "id": "3zVzTDys32XL"
      }
    },
    {
      "cell_type": "code",
      "source": [
        "# 평균을 계산하는 함수\n",
        "def mean(x):\n",
        "  return sum(x) / len(x)\n",
        "\n",
        "# 두 리스트 곱의 합계\n",
        "def sum_of_product(xs, ys):\n",
        "  return sum(x*y for x, y in zip(xs, ys))\n",
        "\n",
        "# 제곱합을 계산하는 함수\n",
        "def sum_of_squares(y):\n",
        "  return sum_of_squares(v, v)\n",
        "\n",
        "# 편차를 계산하는 함수\n",
        "def deviation(xs):\n",
        "  x_mean = mean(xs)\n",
        "  return [x - x_mean for x in xs]\n",
        "\n",
        "# 분산을 계산하는 함수\n",
        "def variance(x):\n",
        "  n = len(x)\n",
        "  deviations = deviation(x)\n",
        "  return sum_of_squares(deviations) / (n-1)\n",
        "\n",
        "# 공분산을 계산하는 함수\n",
        "def convariance(x, y):\n",
        "  n = len(x)\n",
        "  deviations = deviation(x)\n",
        "  return sum_of_squares(deviations) / (n-1)\n",
        "\n",
        "# 표준편차를 계산하는 함수\n",
        "def standard_deviation(x):\n",
        "  return math.sqrt(variance(x))\n",
        "\n",
        "# 상관계수를 계산하는 함수\n",
        "def correlation(xs, ys):\n",
        "  stdev_x = standard_deviation(xs)\n",
        "  stdev_y = standard_deviation(ys)\n",
        "  if stdev_x > 0 and stdev_y > 0:\n",
        "    return convariance(xs, ys) / (stdev_x, stdev_y)\n",
        "  else:\n",
        "    return 0"
      ],
      "metadata": {
        "id": "lvjrVyJRidnD"
      },
      "execution_count": 17,
      "outputs": []
    },
    {
      "cell_type": "markdown",
      "source": [
        "# 2. 투자와 자산배분"
      ],
      "metadata": {
        "id": "1FeWtuLd46pP"
      }
    },
    {
      "cell_type": "markdown",
      "source": [
        "> 자산은 리스크가 없는 자산과 리스크가 있는 자산으로 나뉜다.   \n",
        "> 리스크가 없는 자산으로만 구성된 포트폴리오는 투자자가 원하는 기대수익률을 만족시켜주지 못한다.  \n",
        "> 따라서 자산을 위험자산과 무위험자산으로 분류하고 *좋은 위험자산 포트폴리오를 찾아내는*, **효율적 포트폴리오**를 구성해야 한다.\n",
        "\n"
      ],
      "metadata": {
        "id": "-3sgHyaG49-i"
      }
    },
    {
      "cell_type": "markdown",
      "source": [
        "## 2.3 포트폴리오 성과 측정 삼총사"
      ],
      "metadata": {
        "id": "avBRnRnV6xAA"
      }
    },
    {
      "cell_type": "markdown",
      "source": [
        "**1. 샤프지수**  \n",
        "- 개념: 샤프 지수는 총 위험(변동성) 대비 초과 수익률을 나타내는 지표  \n",
        "즉, 투자자가 감수한 위험 대비 얼마나 많은 초과 수익을 얻었는지 측정  \n",
        "\n",
        "`샤프 지수 = (포트폴리오 수익률 - 무위험 수익률) / 포트폴리오 표준편차(총 위험)`  \n",
        "\n",
        "- 해석: 높은 샤프 지수는 위험 대비 수익률이 높다는 것을 의미함. 일반적으로 샤프 지수가 1 이상이면 좋은 투자로 간주  "
      ],
      "metadata": {
        "id": "0dd8rHy160du"
      }
    },
    {
      "cell_type": "markdown",
      "source": [
        "**2. 젠센알파지수**  \n",
        "- 개념: 포트폴리오의 실제 수익률과 기대수익률의 차이  \n",
        "즉, 시장 대비 얼마나 높은 성과를 냈는지 측정\n",
        "\n",
        "`젠센 알파 = 포트폴리오 수익률 - 기대(적정)수익률`  \n",
        "\n",
        "- 해석: 양수이면 포트폴리오가 CAPM(자본자산가격결정모델)에서 예측하는 것보다 높은 수익률을 달성"
      ],
      "metadata": {
        "id": "g5wQKpk87qF3"
      }
    },
    {
      "cell_type": "markdown",
      "source": [
        "**3. 트레이너지수**  \n",
        "- 개념: 체계적 위험(베타) 대비 초과 수익률을 나타내는 지표\n",
        "즉, 투자자가 감수한 체계적 위험 단위당 얼마나 많은 초과 수익을 얻었는지 측정\n",
        "\n",
        "`트레이너 지수 = (포트폴리오 수익률 - 무위험 수익률) / β`  \n",
        "베타: 시장 수익률 변동에 대한 포트폴리오 수익률의 민감도(체계적 위험)  \n",
        "\n",
        "- 해석: 높은 트레이너 지수는 체계적 위험 대비 수익률이 높다는 것을 의미"
      ],
      "metadata": {
        "id": "Z_bahCFV9TcT"
      }
    },
    {
      "cell_type": "markdown",
      "source": [
        "**분산 투자가 잘 되어 있지 않은 포트폴리오**: 샤프 지수가 더 적합  \n",
        "**분산 투자가 잘 되어 있고, 체계적 위험이 중요한 포트폴리오**: 트레이너 지수가 더 적합  \n",
        "**특정 벤치마크와 비교하여 초과 수익을 평가하고 싶을 때**: 젠센 알파 지수가 더 적합  "
      ],
      "metadata": {
        "id": "ZLpamdiG9xhv"
      }
    },
    {
      "cell_type": "markdown",
      "source": [
        "**정보비율**  \n",
        "투자 성과를 평가하는 지표  \n",
        "정보비율이 높을수록 더 많은 초과 수익을 얻음\n",
        "\n",
        "`정보비율 (IR) = 초과 수익률(포트폴리오 수익률 - 벤치마크 수익률) / 추적 오차(표준편차)`\n",
        "\n",
        "\n",
        "\n"
      ],
      "metadata": {
        "id": "yolxXmh_lktZ"
      }
    },
    {
      "cell_type": "markdown",
      "source": [
        "**최대 낙폭(MDD)**  \n",
        "고점에서 저점까지 하락폭이 가장 큰 구간의 등락률  \n",
        "즉, 투자자의 최대손실가능 수익률을 의미\n",
        "\n",
        "`MDD = 기간 중 최저 가치 - 최고 가치 / 최고 가치`"
      ],
      "metadata": {
        "id": "HSKQI3w7nOlq"
      }
    },
    {
      "cell_type": "code",
      "source": [
        "values = [100, 120, 130, 100, 65, 80, 100, 120, 140, 160]\n",
        "\n",
        "def mdd(x):\n",
        "  arr = np.array(x)\n",
        "  idx_lower = np.argmin(arr - np.maximum.accumulate(arr))\n",
        "  idx_upper = np.argmax(arr[:idx_lower])\n",
        "  return (arr[idx_lower] - arr[idx_upper]) / arr[idx_upper]\n",
        "\n",
        "print(\"{:.2%}\".format(mdd(values)))"
      ],
      "metadata": {
        "id": "2DGq2X_a49Iy",
        "colab": {
          "base_uri": "https://localhost:8080/"
        },
        "outputId": "1dda1a1b-cf5d-4e46-85ca-ce5949f62430"
      },
      "execution_count": 18,
      "outputs": [
        {
          "output_type": "stream",
          "name": "stdout",
          "text": [
            "-50.00%\n"
          ]
        }
      ]
    },
    {
      "cell_type": "markdown",
      "source": [
        "# 3. 평균-분산 포트폴리오 이론"
      ],
      "metadata": {
        "id": "8fhikJIUHd3f"
      }
    },
    {
      "cell_type": "markdown",
      "source": [
        "## 3.1 포트폴리오의 기대수익과 위험"
      ],
      "metadata": {
        "id": "VAl83yaBH1kf"
      }
    },
    {
      "cell_type": "markdown",
      "source": [
        "> 노벨 경제학상 수상자 해리 마코위츠는 투자자들이 주가 대폭락 이후 수익뿐만 아니라 리스크에도 관심을 가지는 것을 목격했다.  \n",
        "그는 **상관계수가 낮은 자산을 결합**해 위험을 줄이며 수익률을 높일 수 있는 최적 포트폴리오를 제시했다.\n"
      ],
      "metadata": {
        "id": "NTJEkBf3H8En"
      }
    },
    {
      "cell_type": "markdown",
      "source": [
        "### 3.1.1 두 개 주식으로 구성된 포트폴리오\n",
        "확률분포 없이 조건을 단순화해 포트폴리오의 기대수익률을 구해볼 수 있다"
      ],
      "metadata": {
        "id": "-bBaaQgZLwgq"
      }
    },
    {
      "cell_type": "markdown",
      "source": [
        "**1. 포트폴리오 기대수익률** = A 투자 비중 * A 기대수익률 + B 투자 비중 * B 기대수익률"
      ],
      "metadata": {
        "id": "CXNS9NoARChy"
      }
    },
    {
      "cell_type": "code",
      "source": [
        "# 각각 호황시, 평상시, 불황시 수익률과 확률\n",
        "stock_a = [0.07, 0.04, 0.02]\n",
        "stock_b = [0.15, 0.07, -0.07]\n",
        "prob = [1/3, 1/3, 1/3]\n",
        "\n",
        "# 주식 a,b의 경기 국면에 따른 수익률 기댓값을 저장할 변수\n",
        "ex_a = 0.0\n",
        "ex_b = 0.0\n",
        "wgt_a = 0.5\n",
        "wgt_b = 0.5\n",
        "\n",
        "# 주식 a,b의 기대수익률\n",
        "ex_a = sum(s*p for s,p in zip(stock_a, prob))\n",
        "ex_b = sum(s*p for s,p in zip(stock_b, prob))\n",
        "\n",
        "# 포트폴리오 기대수익률\n",
        "ex_portfolio = wgt_a * ex_a + wgt_b * ex_b\n",
        "\n",
        "print('주식 a의 기대수익률은 {:.2%}'.format(ex_a))\n",
        "print('주식 b의 기대수익률은 {:.2%}'.format(ex_b))\n",
        "print('포트폴리오 기대수익률은 {:.2%}'.format(ex_portfolio))"
      ],
      "metadata": {
        "colab": {
          "base_uri": "https://localhost:8080/"
        },
        "id": "CIJPJU89IhFF",
        "outputId": "a2add709-2a1d-4a0c-ccfc-2ea7e6ed7127"
      },
      "execution_count": 19,
      "outputs": [
        {
          "output_type": "stream",
          "name": "stdout",
          "text": [
            "주식 a의 기대수익률은 4.33%\n",
            "주식 b의 기대수익률은 5.00%\n",
            "포트폴리오 기대수익률은 4.67%\n"
          ]
        }
      ]
    },
    {
      "cell_type": "markdown",
      "source": [
        "**2. 행렬 연산**으로 구해보는 포트폴리오 기대수익률"
      ],
      "metadata": {
        "id": "PbwV6WlTRJZV"
      }
    },
    {
      "cell_type": "code",
      "source": [
        "# matrix()를 통해 확률, 주식 a,b의 수익률을 1x3 행렬로 만듦\n",
        "stock_a = np.array([[0.07, 0.04, 0.02]])\n",
        "stock_b = np.array([[0.15, 0.07, -0.07]])\n",
        "prob = np.array([[1/3, 1/3, 1/3]])\n",
        "\n",
        "# 행렬 곱하기 연산 수행, 행렬 차원을 맞추기 위해 전치 사용\n",
        "# prob는 1x3, stock_a, stock_b는 3x1이 되어 1x1의 행렬이 나오게 됨\n",
        "ex_a = prob @ stock_a.T\n",
        "ex_b = prob @ stock_b.T\n",
        "ex_portfolio = wgt_a * ex_a + wgt_b * ex_b\n",
        "\n",
        "print('주식 a의 기대수익률은 {:.2%}'.format(ex_a[0, 0]))\n",
        "print('주식 b의 기대수익률은 {:.2%}'.format(ex_b[0, 0]))\n",
        "print('포트폴리오 기대수익률은 {:.2%}'.format(ex_portfolio[0, 0]))"
      ],
      "metadata": {
        "colab": {
          "base_uri": "https://localhost:8080/"
        },
        "id": "q44cIeh_K_b_",
        "outputId": "78418e5d-628a-4ce3-91b4-d0a54c5171fc"
      },
      "execution_count": 38,
      "outputs": [
        {
          "output_type": "stream",
          "name": "stdout",
          "text": [
            "주식 a의 기대수익률은 4.33%\n",
            "주식 b의 기대수익률은 5.00%\n",
            "포트폴리오 기대수익률은 4.67%\n"
          ]
        }
      ]
    },
    {
      "cell_type": "markdown",
      "source": [
        "**3. 포트폴리오 위험** = 주식A 투자 비중** x 주식A 분산 + 주식B 투자비중** + 주식B 분산 + 2 x 주식A 투자 비중 x 주식B 투자 비중 x 포트폴리오 공분산"
      ],
      "metadata": {
        "id": "Yt8IypwbRR8F"
      }
    },
    {
      "cell_type": "code",
      "source": [
        "# 1. 변수 선언 및 주식 a,b의 분산 구하기\n",
        "\n",
        "# 각각 호황시, 평상시, 불황시 수익률과 확률\n",
        "stock_a = [0.07, 0.04, 0.02]\n",
        "stock_b = [0.15, 0.07, -0.07]\n",
        "prob = [1/3, 1/3, 1/3]\n",
        "\n",
        "# 주식 a,b의 경기 국면에 따른 수익률 기댓값을 저장할 변수\n",
        "ex_a = 0.0\n",
        "ex_b = 0.0\n",
        "wgt_a = 0.5\n",
        "wgt_b = 0.5\n",
        "\n",
        "# 분산을 저장할 변수 준비\n",
        "var_a, var_b = 0.0, 0.0\n",
        "\n",
        "# 확률과 편차 제곱을 곱해 각각 분산으로 저장\n",
        "var_a = sum(p*(s-ex_a)**2 for p,s in zip(prob, stock_a))\n",
        "var_b = sum(p*(s-ex_b)**2 for p,s in zip(prob, stock_b))\n",
        "\n",
        "print('주식 a의 분산은 {:.2%}'.format(var_a))\n",
        "print('주식 b의 분산은 {:.2%}'.format(var_b))"
      ],
      "metadata": {
        "colab": {
          "base_uri": "https://localhost:8080/"
        },
        "id": "3ijigP7EMD8Q",
        "outputId": "0f36db38-39a7-4ed4-8156-6696cd4018a5"
      },
      "execution_count": 43,
      "outputs": [
        {
          "output_type": "stream",
          "name": "stdout",
          "text": [
            "주식 a의 분산은 0.23%\n",
            "주식 b의 분산은 1.08%\n"
          ]
        }
      ]
    },
    {
      "cell_type": "code",
      "source": [
        "# 2. 포트폴리오 위험(분산) 측정을 위한 공분산, 표준편차 계산\n",
        "\n",
        "cov = sum(p*(a-ex_a)*(b-ex_b) for p,a,b in zip(prob, stock_a, stock_b))\n",
        "var_p = wgt_a**2 * var_a + wgt_b**2 * var_b + 2*wgt_a*wgt_b*cov\n",
        "std_p = math.sqrt(var_p)\n",
        "\n",
        "print('포트폴리오의 위험(분산)은 {:.2%}'.format(var_p))\n",
        "print('포트폴리오의 표준편차는 {:.2%}'.format(std_p))"
      ],
      "metadata": {
        "colab": {
          "base_uri": "https://localhost:8080/"
        },
        "id": "ID-1F7IoW3d5",
        "outputId": "7b9dc5dc-848c-4ef9-f755-d75d9fed8947"
      },
      "execution_count": 48,
      "outputs": [
        {
          "output_type": "stream",
          "name": "stdout",
          "text": [
            "포트폴리오의 위험(분산)은 0.53%\n",
            "포트폴리오의 표준편차는 7.25%\n"
          ]
        }
      ]
    },
    {
      "cell_type": "code",
      "source": [],
      "metadata": {
        "id": "GmBky2i9YHKJ"
      },
      "execution_count": null,
      "outputs": []
    }
  ]
}