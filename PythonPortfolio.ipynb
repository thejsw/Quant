{
  "nbformat": 4,
  "nbformat_minor": 0,
  "metadata": {
    "colab": {
      "provenance": [],
      "authorship_tag": "ABX9TyPNdkpdtLZQtYx/SPbJFcIa",
      "include_colab_link": true
    },
    "kernelspec": {
      "name": "python3",
      "display_name": "Python 3"
    },
    "language_info": {
      "name": "python"
    }
  },
  "cells": [
    {
      "cell_type": "markdown",
      "metadata": {
        "id": "view-in-github",
        "colab_type": "text"
      },
      "source": [
        "<a href=\"https://colab.research.google.com/github/thejsw/Quant/blob/master/PythonPortfolio.ipynb\" target=\"_parent\"><img src=\"https://colab.research.google.com/assets/colab-badge.svg\" alt=\"Open In Colab\"/></a>"
      ]
    },
    {
      "cell_type": "markdown",
      "source": [
        "# 1. 파이썬과 재무 기초 지식"
      ],
      "metadata": {
        "id": "vyHYFe41Jm8N"
      }
    },
    {
      "cell_type": "markdown",
      "source": [
        "## 1.2 현금흐름, 이자율과 시간 가치"
      ],
      "metadata": {
        "id": "pbrotqG7Jtod"
      }
    },
    {
      "cell_type": "markdown",
      "source": [
        "이자율은 화폐를 보유하는 경우에 생기는 기회비용  \n",
        "단리: 원금 x (1 + 이율 x 기간)  \n",
        "복리: 원금 x (1 + 이율) ** 기간"
      ],
      "metadata": {
        "id": "pE3EinBmJzuN"
      }
    },
    {
      "cell_type": "code",
      "source": [
        "import math"
      ],
      "metadata": {
        "id": "hENyjg3fIkaQ"
      },
      "execution_count": 2,
      "outputs": []
    },
    {
      "cell_type": "code",
      "source": [
        "a = 1\n",
        "r = 1.0\n",
        "\n",
        "n = 4\n",
        "c_compound = a * (1+r / n) ** n\n",
        "\n",
        "c_compound"
      ],
      "metadata": {
        "colab": {
          "base_uri": "https://localhost:8080/"
        },
        "id": "qyI8yuQFI8ix",
        "outputId": "23a2556d-d880-4bf3-8e25-0f52f6983eab"
      },
      "execution_count": 7,
      "outputs": [
        {
          "output_type": "execute_result",
          "data": {
            "text/plain": [
              "2.44140625"
            ]
          },
          "metadata": {},
          "execution_count": 7
        }
      ]
    },
    {
      "cell_type": "markdown",
      "source": [
        "## 1.3 NPV와 IRR"
      ],
      "metadata": {
        "id": "axhwS8eXK_C3"
      }
    },
    {
      "cell_type": "markdown",
      "source": [
        "NPV(순현재가치): 미래에 발생할 현금흐름의 현재가치  \n",
        "IRR(내부수익률):"
      ],
      "metadata": {
        "id": "bXNvH365LByJ"
      }
    },
    {
      "cell_type": "code",
      "source": [
        "# 현금흐름을 cashflows에 저장, i는 횟수, r은 이자율\n",
        "cashflows = [12000, 15000, 18000, 21000, 26000]\n",
        "i = 0\n",
        "r = 0.015\n",
        "\n",
        "# 최초 투자금액, 현금 유출이므로 (-)\n",
        "npv = -70000\n",
        "\n",
        "# cashflows 리스트를 반복해\n",
        "for c in cashflows:\n",
        "  i = i+1\n",
        "  npv = npv + c/(1+r) ** i\n",
        "\n",
        "npv\n"
      ],
      "metadata": {
        "colab": {
          "base_uri": "https://localhost:8080/"
        },
        "id": "N7PMrkOtLBQ3",
        "outputId": "e2ba31c4-343c-4f6f-ccb9-6478327ff371"
      },
      "execution_count": 9,
      "outputs": [
        {
          "output_type": "execute_result",
          "data": {
            "text/plain": [
              "17516.929512135568"
            ]
          },
          "metadata": {},
          "execution_count": 9
        }
      ]
    },
    {
      "cell_type": "code",
      "source": [
        "import scipy as sp"
      ],
      "metadata": {
        "id": "Rm2CBmqFMKRs"
      },
      "execution_count": 11,
      "outputs": []
    },
    {
      "cell_type": "code",
      "source": [
        "\n",
        "cashflows = [-70000, 12000, 15000, 18000, 21000, 26000]\n",
        "r = 0.015\n",
        "\n",
        "npv = 0\n",
        "npv = sp.npv(r, cashflows)\n",
        "npv"
      ],
      "metadata": {
        "colab": {
          "base_uri": "https://localhost:8080/",
          "height": 428
        },
        "id": "R5qvPFwAM2cM",
        "outputId": "f4b5ba7d-b159-4409-c2b4-ab884838e6af"
      },
      "execution_count": 13,
      "outputs": [
        {
          "output_type": "error",
          "ename": "AttributeError",
          "evalue": "Module 'scipy' has no attribute 'npv'",
          "traceback": [
            "\u001b[0;31m---------------------------------------------------------------------------\u001b[0m",
            "\u001b[0;31mKeyError\u001b[0m                                  Traceback (most recent call last)",
            "\u001b[0;32m/usr/local/lib/python3.11/dist-packages/scipy/__init__.py\u001b[0m in \u001b[0;36m__getattr__\u001b[0;34m(name)\u001b[0m\n\u001b[1;32m    136\u001b[0m         \u001b[0;32mtry\u001b[0m\u001b[0;34m:\u001b[0m\u001b[0;34m\u001b[0m\u001b[0;34m\u001b[0m\u001b[0m\n\u001b[0;32m--> 137\u001b[0;31m             \u001b[0;32mreturn\u001b[0m \u001b[0mglobals\u001b[0m\u001b[0;34m(\u001b[0m\u001b[0;34m)\u001b[0m\u001b[0;34m[\u001b[0m\u001b[0mname\u001b[0m\u001b[0;34m]\u001b[0m\u001b[0;34m\u001b[0m\u001b[0;34m\u001b[0m\u001b[0m\n\u001b[0m\u001b[1;32m    138\u001b[0m         \u001b[0;32mexcept\u001b[0m \u001b[0mKeyError\u001b[0m\u001b[0;34m:\u001b[0m\u001b[0;34m\u001b[0m\u001b[0;34m\u001b[0m\u001b[0m\n",
            "\u001b[0;31mKeyError\u001b[0m: 'npv'",
            "\nDuring handling of the above exception, another exception occurred:\n",
            "\u001b[0;31mAttributeError\u001b[0m                            Traceback (most recent call last)",
            "\u001b[0;32m<ipython-input-13-4b6daa609d7d>\u001b[0m in \u001b[0;36m<cell line: 0>\u001b[0;34m()\u001b[0m\n\u001b[1;32m      3\u001b[0m \u001b[0;34m\u001b[0m\u001b[0m\n\u001b[1;32m      4\u001b[0m \u001b[0mnpv\u001b[0m \u001b[0;34m=\u001b[0m \u001b[0;36m0\u001b[0m\u001b[0;34m\u001b[0m\u001b[0;34m\u001b[0m\u001b[0m\n\u001b[0;32m----> 5\u001b[0;31m \u001b[0mnpv\u001b[0m \u001b[0;34m=\u001b[0m \u001b[0msp\u001b[0m\u001b[0;34m.\u001b[0m\u001b[0mnpv\u001b[0m\u001b[0;34m(\u001b[0m\u001b[0mr\u001b[0m\u001b[0;34m,\u001b[0m \u001b[0mcashflows\u001b[0m\u001b[0;34m)\u001b[0m\u001b[0;34m\u001b[0m\u001b[0;34m\u001b[0m\u001b[0m\n\u001b[0m\u001b[1;32m      6\u001b[0m \u001b[0mnpv\u001b[0m\u001b[0;34m\u001b[0m\u001b[0;34m\u001b[0m\u001b[0m\n",
            "\u001b[0;32m/usr/local/lib/python3.11/dist-packages/scipy/__init__.py\u001b[0m in \u001b[0;36m__getattr__\u001b[0;34m(name)\u001b[0m\n\u001b[1;32m    137\u001b[0m             \u001b[0;32mreturn\u001b[0m \u001b[0mglobals\u001b[0m\u001b[0;34m(\u001b[0m\u001b[0;34m)\u001b[0m\u001b[0;34m[\u001b[0m\u001b[0mname\u001b[0m\u001b[0;34m]\u001b[0m\u001b[0;34m\u001b[0m\u001b[0;34m\u001b[0m\u001b[0m\n\u001b[1;32m    138\u001b[0m         \u001b[0;32mexcept\u001b[0m \u001b[0mKeyError\u001b[0m\u001b[0;34m:\u001b[0m\u001b[0;34m\u001b[0m\u001b[0;34m\u001b[0m\u001b[0m\n\u001b[0;32m--> 139\u001b[0;31m             raise AttributeError(\n\u001b[0m\u001b[1;32m    140\u001b[0m                 \u001b[0;34mf\"Module 'scipy' has no attribute '{name}'\"\u001b[0m\u001b[0;34m\u001b[0m\u001b[0;34m\u001b[0m\u001b[0m\n\u001b[1;32m    141\u001b[0m             )\n",
            "\u001b[0;31mAttributeError\u001b[0m: Module 'scipy' has no attribute 'npv'"
          ]
        }
      ]
    },
    {
      "cell_type": "code",
      "source": [],
      "metadata": {
        "id": "z7ybwJ9kM9bs"
      },
      "execution_count": null,
      "outputs": []
    }
  ]
}