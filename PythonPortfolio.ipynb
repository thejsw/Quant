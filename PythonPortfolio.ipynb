{
  "nbformat": 4,
  "nbformat_minor": 0,
  "metadata": {
    "colab": {
      "provenance": [],
      "authorship_tag": "ABX9TyMWCkXFJ+XykaipH4WcU0pg",
      "include_colab_link": true
    },
    "kernelspec": {
      "name": "python3",
      "display_name": "Python 3"
    },
    "language_info": {
      "name": "python"
    }
  },
  "cells": [
    {
      "cell_type": "markdown",
      "metadata": {
        "id": "view-in-github",
        "colab_type": "text"
      },
      "source": [
        "<a href=\"https://colab.research.google.com/github/thejsw/Quant/blob/portfolio/PythonPortfolio.ipynb\" target=\"_parent\"><img src=\"https://colab.research.google.com/assets/colab-badge.svg\" alt=\"Open In Colab\"/></a>"
      ]
    },
    {
      "cell_type": "code",
      "source": [
        "pip --version\n",
        "!pip install numpy-financial"
      ],
      "metadata": {
        "colab": {
          "base_uri": "https://localhost:8080/"
        },
        "id": "aKDd1r5UzSfg",
        "outputId": "fa43cd78-d451-4cf4-8451-1a631fa1406a"
      },
      "execution_count": null,
      "outputs": [
        {
          "output_type": "stream",
          "name": "stdout",
          "text": [
            "pip 24.1.2 from /usr/local/lib/python3.11/dist-packages/pip (python 3.11)\n"
          ]
        }
      ]
    },
    {
      "cell_type": "code",
      "source": [
        "import numpy_financial as npf\n",
        "import math"
      ],
      "metadata": {
        "id": "K6unYjMvSHzY",
        "colab": {
          "base_uri": "https://localhost:8080/"
        },
        "outputId": "e68ac8f4-7965-4714-fc1f-f76a0d9a49a6"
      },
      "execution_count": null,
      "outputs": [
        {
          "output_type": "stream",
          "name": "stdout",
          "text": [
            "Requirement already satisfied: numpy-financial in /usr/local/lib/python3.11/dist-packages (1.0.0)\n",
            "Requirement already satisfied: numpy>=1.15 in /usr/local/lib/python3.11/dist-packages (from numpy-financial) (2.0.2)\n"
          ]
        }
      ]
    },
    {
      "cell_type": "markdown",
      "source": [
        "# 1. 파이썬과 재무 기초 지식"
      ],
      "metadata": {
        "id": "vyHYFe41Jm8N"
      }
    },
    {
      "cell_type": "markdown",
      "source": [
        "## 1.2 현금흐름, 이자율과 시간 가치"
      ],
      "metadata": {
        "id": "pbrotqG7Jtod"
      }
    },
    {
      "cell_type": "markdown",
      "source": [
        "이자율은 화폐를 보유하는 경우에 생기는 기회비용  \n",
        "단리: 원금 x (1 + 이율 x 기간)  \n",
        "복리: 원금 x (1 + 이율) ** 기간"
      ],
      "metadata": {
        "id": "pE3EinBmJzuN"
      }
    },
    {
      "cell_type": "code",
      "source": [
        "a = 1\n",
        "r = 1.0\n",
        "\n",
        "n = 4\n",
        "c_compound = a * (1+r / n) ** n\n",
        "\n",
        "c_compound"
      ],
      "metadata": {
        "colab": {
          "base_uri": "https://localhost:8080/"
        },
        "id": "qyI8yuQFI8ix",
        "outputId": "3fc4fb04-cb64-4255-a746-301f37f9c3d0"
      },
      "execution_count": null,
      "outputs": [
        {
          "output_type": "execute_result",
          "data": {
            "text/plain": [
              "2.44140625"
            ]
          },
          "metadata": {},
          "execution_count": 12
        }
      ]
    },
    {
      "cell_type": "markdown",
      "source": [
        "## 1.3 NPV와 IRR"
      ],
      "metadata": {
        "id": "axhwS8eXK_C3"
      }
    },
    {
      "cell_type": "markdown",
      "source": [
        "**NPV(순현재가치)**: 투자로부터 예상되는 미래 현금 흐름을 현재 가치로 환산한 후, 초기 투자 비용을 차감한 값  \n",
        "-> NPV가 0보다 크면 투자할 가치가 있다고 판단함"
      ],
      "metadata": {
        "id": "bXNvH365LByJ"
      }
    },
    {
      "cell_type": "code",
      "source": [
        "# 현금흐름을 cashflows에 저장, i는 횟수, r은 이자율\n",
        "cashflows = [12000, 15000, 18000, 21000, 26000]\n",
        "i = 0\n",
        "r = 0.015\n",
        "\n",
        "# 최초 투자금액, 현금 유출이므로 (-)\n",
        "npv = -70000\n",
        "\n",
        "# cashflows 리스트를 반복해 미래가치를 현재가치로 계산해서 npv 변수에 누적\n",
        "for c in cashflows:\n",
        "  i = i+1\n",
        "  npv = npv + c/(1+r) ** i\n",
        "\n",
        "npv\n"
      ],
      "metadata": {
        "colab": {
          "base_uri": "https://localhost:8080/"
        },
        "id": "N7PMrkOtLBQ3",
        "outputId": "749051c2-c273-4da5-ae74-54435ab88aa7"
      },
      "execution_count": null,
      "outputs": [
        {
          "output_type": "execute_result",
          "data": {
            "text/plain": [
              "17516.929512135568"
            ]
          },
          "metadata": {},
          "execution_count": 13
        }
      ]
    },
    {
      "cell_type": "code",
      "source": [
        "# numpy_financial 라이브러리 사용\n",
        "cashflows = [-70000, 12000, 15000, 18000, 21000, 26000]\n",
        "r = 0.015\n",
        "\n",
        "npv = npf.npv(r, cashflows)\n",
        "npv"
      ],
      "metadata": {
        "colab": {
          "base_uri": "https://localhost:8080/"
        },
        "id": "Rm2CBmqFMKRs",
        "outputId": "7f096daf-f516-476c-9e2a-b2b490a81bac"
      },
      "execution_count": null,
      "outputs": [
        {
          "output_type": "execute_result",
          "data": {
            "text/plain": [
              "np.float64(17516.929512135568)"
            ]
          },
          "metadata": {},
          "execution_count": 14
        }
      ]
    },
    {
      "cell_type": "markdown",
      "source": [
        "**IRR(내부수익률)**: 투자로부터 예상되는 현금 흐름의 현재 가치와 투자 비용이 같아지도록 만드는 할인율  \n",
        "-> 투자를 통해 얻을 수 있는 수익률  \n",
        "-> NPV를 0으로 만듦  \n",
        "-> 예를 들어, IRR은 약 15.24%일 경우, 투자자가 요구하는 최소 수익률이 10%라면, 이 프로젝트는 투자할 가치가 있다고 판단"
      ],
      "metadata": {
        "id": "aGEuVIp_UVvU"
      }
    },
    {
      "cell_type": "code",
      "source": [
        "cashflows = [-70000, 12000, 15000, 18000, 21000, 26000]\n",
        "\n",
        "irr = npf.irr(cashflows)\n",
        "npv = npf.npv(irr, cashflows)\n",
        "\n",
        "print('IRR {0:.1%} makes NPV {1:.0f}'.format(irr, npv))"
      ],
      "metadata": {
        "id": "MEE1inAJQXVF",
        "colab": {
          "base_uri": "https://localhost:8080/"
        },
        "outputId": "a21bfa22-9d1b-4798-ac31-876f086186df"
      },
      "execution_count": null,
      "outputs": [
        {
          "output_type": "stream",
          "name": "stdout",
          "text": [
            "IRR 8.7% makes NPV 0\n"
          ]
        }
      ]
    },
    {
      "cell_type": "markdown",
      "source": [
        "## 1.4 수익률 대 수익률"
      ],
      "metadata": {
        "id": "u7uNzcYpX-fm"
      }
    },
    {
      "cell_type": "markdown",
      "source": [
        "**산술평균 (Arithmetic Mean)**  \n",
        "일반적으로 \"평균\"이라고 부르는 값으로, 모든 값을 더한 후 값의 개수로 나눈 값  \n",
        "  \n",
        "-> 계산이 간단하고 직관적이나,   \n",
        "복리 효과를 고려하지 않기 때문에 장기 투자 성과를 정확하게 반영X  \n",
        "특히 수익률 변동성이 큰 경우, 실제 투자 수익률과 차이가 클 수 있음"
      ],
      "metadata": {
        "id": "_QoZDRTseNhY"
      }
    },
    {
      "cell_type": "markdown",
      "source": [
        "**기하평균 (Geometric Mean)**  \n",
        "값들을 모두 곱한 후 값의 개수에 해당하는 제곱근을 취한 값  \n",
        "-> 투자 성과를 정확하게 측정하고, 여러 투자 안의 성과를 비교하는 데 유용"
      ],
      "metadata": {
        "id": "ffBBwc2beryH"
      }
    },
    {
      "cell_type": "markdown",
      "source": [
        "**지배원리 (dominance principle)**  \n",
        "포트폴리오에서 얻는 기대수익률은 클수록 좋고, 표준편차와 분산으로 표현하는 위험은 작을수록 좋음"
      ],
      "metadata": {
        "id": "3kqIYG3ve4LX"
      }
    },
    {
      "cell_type": "markdown",
      "source": [
        "## 1.5 자주 사용하는 통계량"
      ],
      "metadata": {
        "id": "v01dkSx1fnBE"
      }
    },
    {
      "cell_type": "markdown",
      "source": [
        "**이동평균**  \n",
        "계산에 들어가는 값 중 가장 오래된 값을 버리고, 새로운 값을 추가하여 구한 평균"
      ],
      "metadata": {
        "id": "DW4p_Ak4fxDG"
      }
    },
    {
      "cell_type": "code",
      "source": [
        "prices = [44800, 44850, 44600, 43750, 44000, 43900, 44350, 45350, 45500, 45700]\n",
        "\n",
        "# 5일 이동평균\n",
        "n = 5\n",
        "\n",
        "for p in prices[n: ]:\n",
        "  end_index = prices.index(p)\n",
        "  begin_index = end_index - n\n",
        "  print(sum(prices[begin_index:end_index])/n)"
      ],
      "metadata": {
        "colab": {
          "base_uri": "https://localhost:8080/"
        },
        "id": "EsjQ7Huhd31g",
        "outputId": "001ccd0d-36c0-4edd-b970-c445a4f07f10"
      },
      "execution_count": null,
      "outputs": [
        {
          "output_type": "stream",
          "name": "stdout",
          "text": [
            "44400.0\n",
            "44220.0\n",
            "44120.0\n",
            "44270.0\n",
            "44620.0\n"
          ]
        }
      ]
    },
    {
      "cell_type": "markdown",
      "source": [
        "**가중평균**  \n",
        "자료에 가중치를 고려해 구한 평균  \n",
        "-> 예를 들어, A종목 100주를 주당 5,000원에 매입하고, 다시 50주를 7,500원에 추가 매수했다면,  \n",
        "5,000원 매입단가의 비중과 7,500원 매입단가의 비중을 반영해 가중평균으로 계산"
      ],
      "metadata": {
        "id": "baJNb7xKhYNU"
      }
    },
    {
      "cell_type": "code",
      "source": [
        "# sizes는 매입수량, prices는 매입단가\n",
        "sizes = [100, 50, 80]\n",
        "prices = [5,000, 7,500, 6,000]\n",
        "\n",
        "# wgt_avg는 합계를 저장할 변수\n",
        "wgt_avg = 0.0\n",
        "\n",
        "# sizes와 prices를 zip함수로 묶어 for 루프로 반복함\n",
        "for s, p in zip(sizes, prices):\n",
        "  wgt_avg += s*p\n",
        "\n",
        "print(wgt_avg)"
      ],
      "metadata": {
        "colab": {
          "base_uri": "https://localhost:8080/"
        },
        "id": "9Ve2ZNf-ge3H",
        "outputId": "f45bc267-6dc5-4099-b437-518ddd15352b"
      },
      "execution_count": null,
      "outputs": [
        {
          "output_type": "stream",
          "name": "stdout",
          "text": [
            "1060.0\n"
          ]
        }
      ]
    },
    {
      "cell_type": "markdown",
      "source": [
        "**공분산**   \n",
        "두 변수 간의 선형적인 관계  \n",
        "Cov(X, Y) = Σ [(Xi - X̄) * (Yi - Ȳ)] / (n - 1)  \n",
        "\n",
        "**상관관계**  \n",
        "공분산의 한계를 극복하기 위해 상관관계라는 개념을 사용  \n",
        "공분산을 각 변수의 표준편차로 나누어 -1과 1 사이의 값으로 정규화"
      ],
      "metadata": {
        "id": "3zVzTDys32XL"
      }
    },
    {
      "cell_type": "code",
      "source": [
        "# 평균을 계산하는 함수\n",
        "def mean(x):\n",
        "  return sum(x) / len(x)\n",
        "\n",
        "# 두 리스트 곱의 합계\n",
        "def sum_of_product(xs, ys):\n",
        "  return sum(x*y for x, y in zip(xs, ys))\n",
        "\n",
        "# 제곱합을 계산하는 함수\n",
        "def sum_of_squares(y):\n",
        "  return sum_of_squares(v, v)\n",
        "\n",
        "# 편차를 계산하는 함수\n",
        "def deviation(xs):\n",
        "  x_mean = mean(xs)\n",
        "  return [x - x_mean for x in xs]\n",
        "\n",
        "# 분산을 계산하는 함수\n",
        "def variance(x):\n",
        "  n = len(x)\n",
        "  deviations = deviation(x)\n",
        "  return sum_of_squares(deviations) / (n-1)\n",
        "\n",
        "# 공분산을 계산하는 함수\n",
        "def convariance(x, y):\n",
        "  n = len(x)\n",
        "  deviations = deviation(x)\n",
        "  return sum_of_squares(deviations) / (n-1)\n",
        "\n",
        "# 표준편차를 계산하는 함수\n",
        "def standard_deviation(x):\n",
        "  return math.sqrt(variance(x))\n",
        "\n",
        "# 상관계수를 계산하는 함수\n",
        "def correlation(xs, ys):\n",
        "  stdev_x = standard_deviation(xs)\n",
        "  stdev_y = standard_deviation(ys)\n",
        "  if stdev_x > 0 and stdev_y > 0:\n",
        "    return convariance(xs, ys) / (stdev_x, stdev_y)\n",
        "  else:\n",
        "    return 0"
      ],
      "metadata": {
        "id": "lvjrVyJRidnD"
      },
      "execution_count": null,
      "outputs": []
    },
    {
      "cell_type": "markdown",
      "source": [
        "# 2. 투자와 자산배분"
      ],
      "metadata": {
        "id": "1FeWtuLd46pP"
      }
    },
    {
      "cell_type": "markdown",
      "source": [
        "> 자산은 리스크가 없는 자산과 리스크가 있는 자산으로 나뉜다.   \n",
        "> 리스크가 없는 자산으로만 구성된 포트폴리오는 투자자가 원하는 기대수익률을 만족시켜주지 못한다.  \n",
        "> 따라서 자산을 위험자산과 무위험자산으로 분류하고 *좋은 위험자산 포트폴리오를 찾아내는*, **효율적 포트폴리오**를 구성해야 한다.\n",
        "\n"
      ],
      "metadata": {
        "id": "-3sgHyaG49-i"
      }
    },
    {
      "cell_type": "markdown",
      "source": [
        "## 2.3 포트폴리오 성과 측정 삼총사"
      ],
      "metadata": {
        "id": "avBRnRnV6xAA"
      }
    },
    {
      "cell_type": "markdown",
      "source": [
        "**1. 샤프지수**  \n",
        "- 개념: 샤프 지수는 총 위험(변동성) 대비 초과 수익률을 나타내는 지표  \n",
        "즉, 투자자가 감수한 위험 대비 얼마나 많은 초과 수익을 얻었는지 측정  \n",
        "\n",
        "`샤프 지수 = (포트폴리오 수익률 - 무위험 수익률) / 포트폴리오 표준편차(총 위험)`  \n",
        "\n",
        "- 해석: 높은 샤프 지수는 위험 대비 수익률이 높다는 것을 의미함. 일반적으로 샤프 지수가 1 이상이면 좋은 투자로 간주  "
      ],
      "metadata": {
        "id": "0dd8rHy160du"
      }
    },
    {
      "cell_type": "markdown",
      "source": [
        "**2. 젠센알파지수**  \n",
        "- 개념: 포트폴리오의 실제 수익률과 기대수익률의 차이  \n",
        "즉, 시장 대비 얼마나 높은 성과를 냈는지 측정\n",
        "\n",
        "`젠센 알파 = 포트폴리오 수익률 - 기대(적정)수익률`  \n",
        "\n",
        "- 해석: 양수이면 포트폴리오가 CAPM(자본자산가격결정모델)에서 예측하는 것보다 높은 수익률을 달성"
      ],
      "metadata": {
        "id": "g5wQKpk87qF3"
      }
    },
    {
      "cell_type": "markdown",
      "source": [
        "**3. 트레이너지수**  \n",
        "- 개념: 체계적 위험(베타) 대비 초과 수익률을 나타내는 지표입니다.  \n",
        "즉, 투자자가 감수한 체계적 위험 단위당 얼마나 많은 초과 수익을 얻었는지 측정\n",
        "\n",
        "`트레이너 지수 = (포트폴리오 수익률 - 무위험 수익률) / β`  \n",
        "베타: 시장 수익률 변동에 대한 포트폴리오 수익률의 민감도(체계적 위험)  \n",
        "\n",
        "- 해석: 높은 트레이너 지수는 체계적 위험 대비 수익률이 높다는 것을 의미"
      ],
      "metadata": {
        "id": "Z_bahCFV9TcT"
      }
    },
    {
      "cell_type": "markdown",
      "source": [
        "**분산 투자가 잘 되어 있지 않은 포트폴리오**: 샤프 지수가 더 적합  \n",
        "**분산 투자가 잘 되어 있고, 체계적 위험이 중요한 포트폴리오**: 트레이너 지수가 더 적합  \n",
        "**특정 벤치마크와 비교하여 초과 수익을 평가하고 싶을 때**: 젠센 알파 지수가 더 적합  "
      ],
      "metadata": {
        "id": "ZLpamdiG9xhv"
      }
    },
    {
      "cell_type": "code",
      "source": [],
      "metadata": {
        "id": "2DGq2X_a49Iy"
      },
      "execution_count": null,
      "outputs": []
    }
  ]
}