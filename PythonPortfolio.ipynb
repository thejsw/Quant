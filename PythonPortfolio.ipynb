{
  "nbformat": 4,
  "nbformat_minor": 0,
  "metadata": {
    "colab": {
      "provenance": [],
      "authorship_tag": "ABX9TyNpPVW8psKI19KQYCi6cucj",
      "include_colab_link": true
    },
    "kernelspec": {
      "name": "python3",
      "display_name": "Python 3"
    },
    "language_info": {
      "name": "python"
    }
  },
  "cells": [
    {
      "cell_type": "markdown",
      "metadata": {
        "id": "view-in-github",
        "colab_type": "text"
      },
      "source": [
        "<a href=\"https://colab.research.google.com/github/thejsw/Quant/blob/master/PythonPortfolio.ipynb\" target=\"_parent\"><img src=\"https://colab.research.google.com/assets/colab-badge.svg\" alt=\"Open In Colab\"/></a>"
      ]
    },
    {
      "cell_type": "code",
      "source": [
        "import numpy_financial as npf\n",
        "import math"
      ],
      "metadata": {
        "id": "K6unYjMvSHzY"
      },
      "execution_count": null,
      "outputs": []
    },
    {
      "cell_type": "markdown",
      "source": [
        "# 1. 파이썬과 재무 기초 지식"
      ],
      "metadata": {
        "id": "vyHYFe41Jm8N"
      }
    },
    {
      "cell_type": "markdown",
      "source": [
        "## 1.2 현금흐름, 이자율과 시간 가치"
      ],
      "metadata": {
        "id": "pbrotqG7Jtod"
      }
    },
    {
      "cell_type": "markdown",
      "source": [
        "이자율은 화폐를 보유하는 경우에 생기는 기회비용  \n",
        "단리: 원금 x (1 + 이율 x 기간)  \n",
        "복리: 원금 x (1 + 이율) ** 기간"
      ],
      "metadata": {
        "id": "pE3EinBmJzuN"
      }
    },
    {
      "cell_type": "code",
      "source": [
        "a = 1\n",
        "r = 1.0\n",
        "\n",
        "n = 4\n",
        "c_compound = a * (1+r / n) ** n\n",
        "\n",
        "c_compound"
      ],
      "metadata": {
        "colab": {
          "base_uri": "https://localhost:8080/"
        },
        "id": "qyI8yuQFI8ix",
        "outputId": "23a2556d-d880-4bf3-8e25-0f52f6983eab"
      },
      "execution_count": null,
      "outputs": [
        {
          "output_type": "execute_result",
          "data": {
            "text/plain": [
              "2.44140625"
            ]
          },
          "metadata": {},
          "execution_count": 7
        }
      ]
    },
    {
      "cell_type": "markdown",
      "source": [
        "## 1.3 NPV와 IRR"
      ],
      "metadata": {
        "id": "axhwS8eXK_C3"
      }
    },
    {
      "cell_type": "markdown",
      "source": [
        "**NPV(순현재가치)**: 투자로부터 예상되는 미래 현금 흐름을 현재 가치로 환산한 후, 초기 투자 비용을 차감한 값  \n",
        "-> NPV가 0보다 크면 투자할 가치가 있다고 판단함"
      ],
      "metadata": {
        "id": "bXNvH365LByJ"
      }
    },
    {
      "cell_type": "code",
      "source": [
        "# 현금흐름을 cashflows에 저장, i는 횟수, r은 이자율\n",
        "cashflows = [12000, 15000, 18000, 21000, 26000]\n",
        "i = 0\n",
        "r = 0.015\n",
        "\n",
        "# 최초 투자금액, 현금 유출이므로 (-)\n",
        "npv = -70000\n",
        "\n",
        "# cashflows 리스트를 반복해 미래가치를 현재가치로 계산해서 npv 변수에 누적\n",
        "for c in cashflows:\n",
        "  i = i+1\n",
        "  npv = npv + c/(1+r) ** i\n",
        "\n",
        "npv\n"
      ],
      "metadata": {
        "colab": {
          "base_uri": "https://localhost:8080/"
        },
        "id": "N7PMrkOtLBQ3",
        "outputId": "705075d8-0468-4c4b-d9d1-b1910fb97201"
      },
      "execution_count": null,
      "outputs": [
        {
          "output_type": "execute_result",
          "data": {
            "text/plain": [
              "17516.929512135568"
            ]
          },
          "metadata": {},
          "execution_count": 10
        }
      ]
    },
    {
      "cell_type": "code",
      "source": [
        "# numpy_financial 라이브러리 사용\n",
        "cashflows = [-70000, 12000, 15000, 18000, 21000, 26000]\n",
        "r = 0.015\n",
        "\n",
        "npv = npf.npv(r, cashflows)\n",
        "npv"
      ],
      "metadata": {
        "colab": {
          "base_uri": "https://localhost:8080/"
        },
        "id": "Rm2CBmqFMKRs",
        "outputId": "45f28c5a-f365-471e-f020-eae884f6f3cb"
      },
      "execution_count": null,
      "outputs": [
        {
          "output_type": "execute_result",
          "data": {
            "text/plain": [
              "17516.929512135568"
            ]
          },
          "metadata": {},
          "execution_count": 11
        }
      ]
    },
    {
      "cell_type": "markdown",
      "source": [
        "**IRR(내부수익률)**: 투자로부터 예상되는 현금 흐름의 현재 가치와 투자 비용이 같아지도록 만드는 할인율  \n",
        "-> 투자를 통해 얻을 수 있는 수익률  \n",
        "-> NPV를 0으로 만듦  \n",
        "-> IRR은 약 15.24%일 경우, 투자자가 요구하는 최소 수익률이 10%라면, 이 프로젝트는 투자할 가치가 있다고 판단"
      ],
      "metadata": {
        "id": "aGEuVIp_UVvU"
      }
    },
    {
      "cell_type": "code",
      "source": [
        "cashflows = [-70000, 12000, 15000, 18000, 21000, 26000]\n",
        "\n",
        "irr = npf.irr(cashflows)\n",
        "npv = npf.npv(irr, cashflows)\n",
        "\n",
        "print('IRR {0:.1%} makes NPV {1:.0f}'.format(irr, npv))"
      ],
      "metadata": {
        "id": "MEE1inAJQXVF",
        "colab": {
          "base_uri": "https://localhost:8080/"
        },
        "outputId": "f2863ab4-4904-4161-944b-a544e9db7584"
      },
      "execution_count": null,
      "outputs": [
        {
          "output_type": "stream",
          "name": "stdout",
          "text": [
            "IRR 8.7% makes NPV 0\n"
          ]
        }
      ]
    },
    {
      "cell_type": "markdown",
      "source": [
        "## 1.4 수익률 대 수익률"
      ],
      "metadata": {
        "id": "u7uNzcYpX-fm"
      }
    },
    {
      "cell_type": "code",
      "source": [],
      "metadata": {
        "id": "CvondJMgUnv4"
      },
      "execution_count": null,
      "outputs": []
    }
  ]
}